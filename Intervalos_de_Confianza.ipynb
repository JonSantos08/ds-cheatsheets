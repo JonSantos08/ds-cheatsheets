{
  "nbformat": 4,
  "nbformat_minor": 0,
  "metadata": {
    "colab": {
      "name": "Intervalos de Confianza.ipynb",
      "provenance": [],
      "collapsed_sections": [],
      "authorship_tag": "ABX9TyN9TMj+v1EYm7jDhwbQWR8/",
      "include_colab_link": true
    },
    "kernelspec": {
      "name": "python3",
      "display_name": "Python 3"
    },
    "language_info": {
      "name": "python"
    }
  },
  "cells": [
    {
      "cell_type": "markdown",
      "metadata": {
        "id": "view-in-github",
        "colab_type": "text"
      },
      "source": [
        "<a href=\"https://colab.research.google.com/github/JonSantos08/ds-cheatsheets/blob/master/Intervalos_de_Confianza.ipynb\" target=\"_parent\"><img src=\"https://colab.research.google.com/assets/colab-badge.svg\" alt=\"Open In Colab\"/></a>"
      ]
    },
    {
      "cell_type": "markdown",
      "metadata": {
        "id": "x3pc8jnwHotT"
      },
      "source": [
        "# **Estimación Puntual** "
      ]
    },
    {
      "cell_type": "code",
      "metadata": {
        "id": "MSyRugFTHbyl"
      },
      "source": [
        "import numpy as np\n",
        "import pandas as pd\n",
        "import scipy.stats as stats\n",
        "import matplotlib.pyplot as plt\n",
        "import random\n",
        "import math"
      ],
      "execution_count": null,
      "outputs": []
    },
    {
      "cell_type": "code",
      "metadata": {
        "id": "d6wWCQ_rIXsw",
        "colab": {
          "base_uri": "https://localhost:8080/"
        },
        "outputId": "a189de23-5f04-43fa-aeed-ab5ce8bc328e"
      },
      "source": [
        "np.random.seed(2020)\n",
        "population_ages_1 = stats.poisson.rvs(loc = 18, mu = 35, size = 1500000)\n",
        "population_ages_2 = stats.poisson.rvs(loc = 18, mu = 10, size = 1000000)\n",
        "population_ages= np.concatenate((population_ages_1, population_ages_2))\n",
        "print(population_ages_1.mean())\n",
        "print(population_ages_2.mean())\n",
        "print(population_ages.mean())"
      ],
      "execution_count": null,
      "outputs": [
        {
          "output_type": "stream",
          "name": "stdout",
          "text": [
            "52.998824666666664\n",
            "27.999569\n",
            "42.9991224\n"
          ]
        }
      ]
    },
    {
      "cell_type": "code",
      "metadata": {
        "colab": {
          "base_uri": "https://localhost:8080/",
          "height": 641
        },
        "id": "ri82t_OYKPA1",
        "outputId": "df53d8e6-cbe0-42bc-8136-c20ee050f67d"
      },
      "source": [
        "pd.DataFrame(population_ages).hist(bins=60, range=(17.5, 77.5), figsize = (10,10))"
      ],
      "execution_count": null,
      "outputs": [
        {
          "output_type": "execute_result",
          "data": {
            "text/plain": [
              "array([[<matplotlib.axes._subplots.AxesSubplot object at 0x7f0f39b71c90>]],\n",
              "      dtype=object)"
            ]
          },
          "metadata": {},
          "execution_count": 4
        },
        {
          "output_type": "display_data",
          "data": {
            "image/png": "[encoded data removed]",
            "text/plain": [
              "<Figure size 720x720 with 1 Axes>"
            ]
          },
          "metadata": {
            "needs_background": "light"
          }
        }
      ]
    },
    {
      "cell_type": "code",
      "metadata": {
        "colab": {
          "base_uri": "https://localhost:8080/"
        },
        "id": "64rxedGvK663",
        "outputId": "7681d375-8df9-4b89-ffe3-9e33512d7846"
      },
      "source": [
        "stats.skew(population_ages)"
      ],
      "execution_count": null,
      "outputs": [
        {
          "output_type": "execute_result",
          "data": {
            "text/plain": [
              "-0.11907136129560125"
            ]
          },
          "metadata": {},
          "execution_count": 5
        }
      ]
    },
    {
      "cell_type": "code",
      "metadata": {
        "colab": {
          "base_uri": "https://localhost:8080/"
        },
        "id": "kK-x_rv3K_Zm",
        "outputId": "afb54a72-304e-47b8-9742-16c4c8d3bf27"
      },
      "source": [
        "stats.kurtosis(population_ages)"
      ],
      "execution_count": null,
      "outputs": [
        {
          "output_type": "execute_result",
          "data": {
            "text/plain": [
              "-1.4593749125303193"
            ]
          },
          "metadata": {},
          "execution_count": 6
        }
      ]
    },
    {
      "cell_type": "code",
      "metadata": {
        "colab": {
          "base_uri": "https://localhost:8080/"
        },
        "id": "IC5YW1xqLNv9",
        "outputId": "ef0788d8-7503-471e-e355-6a19c45b645a"
      },
      "source": [
        "np.random.seed(42)\n",
        "sample_ages = np.random.choice(population_ages, 500)\n",
        "print(sample_ages.mean())"
      ],
      "execution_count": null,
      "outputs": [
        {
          "output_type": "stream",
          "name": "stdout",
          "text": [
            "42.356\n"
          ]
        }
      ]
    },
    {
      "cell_type": "code",
      "metadata": {
        "colab": {
          "base_uri": "https://localhost:8080/"
        },
        "id": "E2-22BSgLmXc",
        "outputId": "11f9227e-19f1-4b53-e542-f18ab660c51c"
      },
      "source": [
        "population_ages.mean() - sample_ages.mean()"
      ],
      "execution_count": null,
      "outputs": [
        {
          "output_type": "execute_result",
          "data": {
            "text/plain": [
              "0.6431223999999958"
            ]
          },
          "metadata": {},
          "execution_count": 8
        }
      ]
    },
    {
      "cell_type": "code",
      "metadata": {
        "colab": {
          "base_uri": "https://localhost:8080/"
        },
        "id": "zNHb_nK2McAX",
        "outputId": "2609969d-bb78-4489-c554-771a1b64b35e"
      },
      "source": [
        "for race in set(population_races):\n",
        "  print(\"Proporción de \"+race)\n",
        "  print(population_races.count(race)/2500000)"
      ],
      "execution_count": null,
      "outputs": [
        {
          "output_type": "stream",
          "name": "stdout",
          "text": [
            "Proporción de blanca\n",
            "0.4\n",
            "Proporción de asiatica\n",
            "0.1\n",
            "Proporción de negra\n",
            "0.2\n",
            "Proporción de hispana\n",
            "0.2\n",
            "Proporción de otros\n",
            "0.1\n"
          ]
        }
      ]
    },
    {
      "cell_type": "code",
      "metadata": {
        "id": "yC5xaiy1Lx0m"
      },
      "source": [
        "population_races = ([\"blanca\"]*1000000) + ([\"negra\"]*500000) + ([\"hispana\"]*500000) + ([\"asiatica\"]*250000) + ([\"otros\"]*250000)"
      ],
      "execution_count": null,
      "outputs": []
    },
    {
      "cell_type": "code",
      "metadata": {
        "id": "XJnuAP7JM7Fv"
      },
      "source": [
        "random.seed(31)\n",
        "race_sample = random.sample(population_races, 1000)"
      ],
      "execution_count": null,
      "outputs": []
    },
    {
      "cell_type": "code",
      "metadata": {
        "colab": {
          "base_uri": "https://localhost:8080/"
        },
        "id": "_xPUB8D6NaZn",
        "outputId": "0d40c1bd-9777-479e-cc3b-fb1bcf25d9ed"
      },
      "source": [
        "for race in set(race_sample):\n",
        "  print(\"Proporción de \"+race)\n",
        "  print(race_sample.count(race)/1000)"
      ],
      "execution_count": null,
      "outputs": [
        {
          "output_type": "stream",
          "name": "stdout",
          "text": [
            "Proporción de blanca\n",
            "0.379\n",
            "Proporción de asiatica\n",
            "0.101\n",
            "Proporción de negra\n",
            "0.217\n",
            "Proporción de hispana\n",
            "0.201\n",
            "Proporción de otros\n",
            "0.102\n"
          ]
        }
      ]
    },
    {
      "cell_type": "code",
      "metadata": {
        "colab": {
          "base_uri": "https://localhost:8080/",
          "height": 641
        },
        "id": "nJv_Fz7GNcgD",
        "outputId": "1d3c9c41-9696-4b4b-f9c1-0a48549a0386"
      },
      "source": [
        "pd.DataFrame(population_ages).hist(bins=60, range=(17.5, 77.5), figsize = (10,10))"
      ],
      "execution_count": null,
      "outputs": [
        {
          "output_type": "execute_result",
          "data": {
            "text/plain": [
              "array([[<matplotlib.axes._subplots.AxesSubplot object at 0x7f0f39126350>]],\n",
              "      dtype=object)"
            ]
          },
          "metadata": {},
          "execution_count": 22
        },
        {
          "output_type": "display_data",
          "data": {
            "image/png": "[encoded data removed]",
            "text/plain": [
              "<Figure size 720x720 with 1 Axes>"
            ]
          },
          "metadata": {
            "needs_background": "light"
          }
        }
      ]
    },
    {
      "cell_type": "code",
      "metadata": {
        "colab": {
          "base_uri": "https://localhost:8080/",
          "height": 641
        },
        "id": "7JrjD_7yOCGE",
        "outputId": "b54828ac-29fd-44ab-ab35-979275303fad"
      },
      "source": [
        "pd.DataFrame(sample_ages).hist(bins=60, range=(17.5, 77.5), figsize = (10,10))"
      ],
      "execution_count": null,
      "outputs": [
        {
          "output_type": "execute_result",
          "data": {
            "text/plain": [
              "array([[<matplotlib.axes._subplots.AxesSubplot object at 0x7f0f38fc2a90>]],\n",
              "      dtype=object)"
            ]
          },
          "metadata": {},
          "execution_count": 23
        },
        {
          "output_type": "display_data",
          "data": {
            "image/png": "[encoded data removed]",
            "text/plain": [
              "<Figure size 720x720 with 1 Axes>"
            ]
          },
          "metadata": {
            "needs_background": "light"
          }
        }
      ]
    },
    {
      "cell_type": "code",
      "metadata": {
        "colab": {
          "base_uri": "https://localhost:8080/",
          "height": 555
        },
        "id": "SySY3oNcOFAA",
        "outputId": "e943d0e5-abab-4709-dfe5-888c2b4905d0"
      },
      "source": [
        "np.random.sample(1988)\n",
        "\n",
        "point_estimates = []\n",
        "\n",
        "for x in range(200):\n",
        "  sample = np.random.choice(population_ages, size = 500)\n",
        "  point_estimates.append(sample.mean())\n",
        "\n",
        "pd.DataFrame(point_estimates).plot(kind=\"density\", figsize = (9,9), xlim=(40,46) )"
      ],
      "execution_count": null,
      "outputs": [
        {
          "output_type": "execute_result",
          "data": {
            "text/plain": [
              "<matplotlib.axes._subplots.AxesSubplot at 0x7f0f38de9210>"
            ]
          },
          "metadata": {},
          "execution_count": 28
        },
        {
          "output_type": "display_data",
          "data": {
            "image/png": "[encoded data removed]",
            "text/plain": [
              "<Figure size 648x648 with 1 Axes>"
            ]
          },
          "metadata": {
            "needs_background": "light"
          }
        }
      ]
    },
    {
      "cell_type": "code",
      "metadata": {
        "colab": {
          "base_uri": "https://localhost:8080/"
        },
        "id": "LPckXogzPTyx",
        "outputId": "333d731d-c90a-4bad-90f2-213bd945ec14"
      },
      "source": [
        "np.array(point_estimates).mean()"
      ],
      "execution_count": null,
      "outputs": [
        {
          "output_type": "execute_result",
          "data": {
            "text/plain": [
              "42.95199"
            ]
          },
          "metadata": {},
          "execution_count": 29
        }
      ]
    },
    {
      "cell_type": "markdown",
      "metadata": {
        "id": "VQsnTwviVW3b"
      },
      "source": [
        "## **Si conocemos la desviación típica**"
      ]
    },
    {
      "cell_type": "code",
      "metadata": {
        "colab": {
          "base_uri": "https://localhost:8080/"
        },
        "id": "qiLtK03TPwOs",
        "outputId": "dba3eef6-09a1-4594-d6ea-2ec80b6be2c7"
      },
      "source": [
        "np.random.seed(10)\n",
        "\n",
        "n = 1000\n",
        "alpha = 0.05\n",
        "sample = np.random.choice (population_ages, size=n)\n",
        "sample_mean = sample.mean()\n",
        "\n",
        "z_critical = stats.norm.ppf(q = 1-alpha/2)\n",
        "\n",
        "sigma = population_ages.std() ##Sigma de la población\n",
        "\n",
        "sample_error = z_critical * sigma/math.sqrt(n)\n",
        "\n",
        "ci = (sample_mean - sample_error, sample_mean + sample_error)\n",
        "ci ## "
      ],
      "execution_count": null,
      "outputs": [
        {
          "output_type": "execute_result",
          "data": {
            "text/plain": [
              "(42.23912299964774, 43.878877000352254)"
            ]
          },
          "metadata": {},
          "execution_count": 32
        }
      ]
    },
    {
      "cell_type": "code",
      "metadata": {
        "id": "IABBJQDeRWoX"
      },
      "source": [
        "np.random.seed(10)\n",
        "\n",
        "n = 1000\n",
        "alpha = 0.05\n",
        "\n",
        "intervals = []\n",
        "sample_means = []\n",
        "\n",
        "z_critical = stats.norm.ppf(q = 1-alpha/2)\n",
        "\n",
        "sigma = population_ages.std() ##Sigma de la población\n",
        "\n",
        "sample_error = z_critical * sigma/math.sqrt(n)\n",
        "for sample in range(100):\n",
        "\n",
        "  sample = np.random.choice(population_ages, size=n)\n",
        "  sample_mean = sample.mean()\n",
        "  sample_means.append(sample_mean)\n",
        "\n",
        "  ci = (sample_mean - sample_error, sample_mean + sample_error)\n",
        "  intervals.append(ci)"
      ],
      "execution_count": null,
      "outputs": []
    },
    {
      "cell_type": "code",
      "metadata": {
        "colab": {
          "base_uri": "https://localhost:8080/",
          "height": 609
        },
        "id": "K6tFumxSTQLl",
        "outputId": "3b7af403-4cb9-4d8a-aa9c-a58fc85b96ed"
      },
      "source": [
        "plt.figure(figsize = (10,10))\n",
        "plt.errorbar(x = np.arange(0.1, 100, 1), y = sample_means, yerr = [(top-bottom)/2 for top, bottom in intervals], fmt='o')\n",
        "plt.hlines(xmin=0, xmax=100, y = population_ages.mean(), linewidth=2.0, color=\"red\")"
      ],
      "execution_count": null,
      "outputs": [
        {
          "output_type": "execute_result",
          "data": {
            "text/plain": [
              "<matplotlib.collections.LineCollection at 0x7f0f36c64b10>"
            ]
          },
          "metadata": {},
          "execution_count": 38
        },
        {
          "output_type": "display_data",
          "data": {
            "image/png": "[encoded data removed]",
            "text/plain": [
              "<Figure size 720x720 with 1 Axes>"
            ]
          },
          "metadata": {
            "needs_background": "light"
          }
        }
      ]
    },
    {
      "cell_type": "markdown",
      "metadata": {
        "id": "ofkezVmAU_wk"
      },
      "source": [
        "## **Si la desviación típica no es conocida...**"
      ]
    },
    {
      "cell_type": "code",
      "metadata": {
        "colab": {
          "base_uri": "https://localhost:8080/"
        },
        "id": "QBSUA7LhU8pK",
        "outputId": "e91b96e8-c243-4afc-8a11-8bf5cb5930c9"
      },
      "source": [
        "np.random.seed(10)\n",
        "\n",
        "n = 25\n",
        "alpha = 0.05\n",
        "\n",
        "sample = np.random.choice (population_ages, size=n)\n",
        "sample_mean = sample.mean()\n",
        "\n",
        "t_critical = stats.t.ppf(q = 1-alpha/2, df= n-1)\n",
        "\n",
        "sample_sd = sample.std(ddof=1) ##Desviación estandar de la muestra\n",
        "\n",
        "sample_error = t_critical * sample_sd/math.sqrt(n)\n",
        "\n",
        "ci = (sample_mean - sample_error, sample_mean + sample_error)\n",
        "ci "
      ],
      "execution_count": null,
      "outputs": [
        {
          "output_type": "execute_result",
          "data": {
            "text/plain": [
              "(38.66197902104285, 49.73802097895715)"
            ]
          },
          "metadata": {},
          "execution_count": 41
        }
      ]
    },
    {
      "cell_type": "code",
      "metadata": {
        "colab": {
          "base_uri": "https://localhost:8080/"
        },
        "id": "O8C0nK9TWLWO",
        "outputId": "4099d28d-ac26-483c-ebc2-0b4ff5ce9c38"
      },
      "source": [
        "stats.t.ppf(q = 1-alpha, df=n-1) - stats.norm.ppf(1-alpha)"
      ],
      "execution_count": null,
      "outputs": [
        {
          "output_type": "execute_result",
          "data": {
            "text/plain": [
              "0.06602845295795534"
            ]
          },
          "metadata": {},
          "execution_count": 44
        }
      ]
    },
    {
      "cell_type": "code",
      "metadata": {
        "colab": {
          "base_uri": "https://localhost:8080/"
        },
        "id": "5MDcLSMVWiOP",
        "outputId": "669a1be6-7002-479f-c574-498d57ed27ca"
      },
      "source": [
        "stats.t.ppf(q = 1-alpha, df=999) - stats.norm.ppf(1-alpha)"
      ],
      "execution_count": null,
      "outputs": [
        {
          "output_type": "execute_result",
          "data": {
            "text/plain": [
              "0.0015267184760627828"
            ]
          },
          "metadata": {},
          "execution_count": 45
        }
      ]
    },
    {
      "cell_type": "code",
      "metadata": {
        "colab": {
          "base_uri": "https://localhost:8080/"
        },
        "id": "IxBSJA1RWuFk",
        "outputId": "8c9f14fd-eedf-44b2-e018-38ff5cfa8c00"
      },
      "source": [
        "stats.t.interval(alpha = 0.95, df = 24, loc = sample_mean, scale = sample_sd/math.sqrt(n))"
      ],
      "execution_count": null,
      "outputs": [
        {
          "output_type": "execute_result",
          "data": {
            "text/plain": [
              "(38.66197902104285, 49.73802097895715)"
            ]
          },
          "metadata": {},
          "execution_count": 50
        }
      ]
    },
    {
      "cell_type": "markdown",
      "metadata": {
        "id": "H8KsV-6paLW2"
      },
      "source": [
        "## **Intervalo para la proporción poblacional**"
      ]
    },
    {
      "cell_type": "code",
      "metadata": {
        "id": "oZ_6sKs7XEzF",
        "colab": {
          "base_uri": "https://localhost:8080/"
        },
        "outputId": "0bbaae02-e755-46aa-ce28-86a05ad7f99d"
      },
      "source": [
        "alpha=0.05\n",
        "n = 1000\n",
        "z_critical = stats.norm.ppf(q = 1-alpha/2)\n",
        "p_hat = race_sample.count(\"blanca\")/ n\n",
        "\n",
        "sample_error = z_critical * math.sqrt((p_hat*(1-p_hat)/n))\n",
        "\n",
        "ci = (p_hat - sample_error, p_hat + sample_error)\n",
        "ci"
      ],
      "execution_count": 53,
      "outputs": [
        {
          "output_type": "execute_result",
          "data": {
            "text/plain": [
              "(0.34893138003533003, 0.40906861996467)"
            ]
          },
          "metadata": {},
          "execution_count": 53
        }
      ]
    },
    {
      "cell_type": "code",
      "metadata": {
        "colab": {
          "base_uri": "https://localhost:8080/"
        },
        "id": "KUzD0IxCZY0F",
        "outputId": "5dc1241e-910d-49ae-a378-4dd595d0298e"
      },
      "source": [
        "stats.norm.interval(alpha = 0.95, loc = p_hat, scale = math.sqrt(p_hat*(1-p_hat)/n))"
      ],
      "execution_count": 54,
      "outputs": [
        {
          "output_type": "execute_result",
          "data": {
            "text/plain": [
              "(0.34893138003533003, 0.40906861996467)"
            ]
          },
          "metadata": {},
          "execution_count": 54
        }
      ]
    },
    {
      "cell_type": "markdown",
      "metadata": {
        "id": "a3-QPR1RaSZx"
      },
      "source": [
        "##**Cómo interpretar el intervalo de confianza**"
      ]
    },
    {
      "cell_type": "code",
      "metadata": {
        "id": "tXozdAUhaapT"
      },
      "source": [
        "shape, scale = 2.0, 2.0, #mean = 4, std = 2*sqrt(2)\n",
        "S = np.random.gamma(shape, scale, 1000000)\n",
        "\n",
        "mu = shape*scale \n",
        "sigma = scale*np.sqrt(shape)\n"
      ],
      "execution_count": 55,
      "outputs": []
    },
    {
      "cell_type": "code",
      "metadata": {
        "colab": {
          "base_uri": "https://localhost:8080/"
        },
        "id": "dnZr4-bTcO_0",
        "outputId": "20e69efb-d012-432d-b250-0d9cb560496c"
      },
      "source": [
        "print(mu)\n",
        "print(sigma)"
      ],
      "execution_count": 60,
      "outputs": [
        {
          "output_type": "stream",
          "name": "stdout",
          "text": [
            "4.0\n",
            "2.8284271247461903\n"
          ]
        }
      ]
    },
    {
      "cell_type": "code",
      "metadata": {
        "colab": {
          "base_uri": "https://localhost:8080/",
          "height": 592
        },
        "id": "70AC4jZWbPh8",
        "outputId": "8b70229a-fcdb-4a32-99b1-11c0931504d4"
      },
      "source": [
        "meansample = []\n",
        "sample_size = 500\n",
        "for i in range(0,50000):\n",
        "  sample = random.choices(S, k = sample_size)\n",
        "  meansample.append(sum(sample)/len(sample))\n",
        "\n",
        "plt.figure(figsize=(20,10))\n",
        "plt.hist(meansample, 200, density=True, color=\"lightblue\")\n",
        "plt.show()"
      ],
      "execution_count": 58,
      "outputs": [
        {
          "output_type": "display_data",
          "data": {
            "image/png": "[encoded data removed]",
            "text/plain": [
              "<Figure size 1440x720 with 1 Axes>"
            ]
          },
          "metadata": {
            "needs_background": "light"
          }
        }
      ]
    },
    {
      "cell_type": "code",
      "metadata": {
        "colab": {
          "base_uri": "https://localhost:8080/",
          "height": 592
        },
        "id": "mveso6OnblRE",
        "outputId": "d28617d0-ceb4-4613-8597-659871546097"
      },
      "source": [
        "plt.figure(figsize=(20,10))\n",
        "plt.hist(meansample, 200, density=True, color=\"lightblue\")\n",
        "plt.plot([mu,mu], [0,3.5], 'k-', lw = 4, color='green')\n",
        "plt.plot([mu-1.96*sigma/np.sqrt(sample_size),mu-1.96*sigma/np.sqrt(sample_size)], [0,3.5], 'k-', lw=2, color = 'navy')\n",
        "plt.plot([mu+1.96*sigma/np.sqrt(sample_size),mu+1.96*sigma/np.sqrt(sample_size)], [0,3.5], 'k-', lw=2, color = 'navy')\n",
        "plt.show()"
      ],
      "execution_count": 63,
      "outputs": [
        {
          "output_type": "display_data",
          "data": {
            "image/png": "[encoded data removed]",
            "text/plain": [
              "<Figure size 1440x720 with 1 Axes>"
            ]
          },
          "metadata": {
            "needs_background": "light"
          }
        }
      ]
    },
    {
      "cell_type": "code",
      "metadata": {
        "colab": {
          "base_uri": "https://localhost:8080/",
          "height": 572
        },
        "id": "Nr-9NXj-dfdo",
        "outputId": "43290034-856e-4b56-a2c5-a8d9023ff9ce"
      },
      "source": [
        "sample_data = np.random.choice(S, size = sample_size)\n",
        "x_bar = sample_data.mean()\n",
        "ss = sample_data.std()/np.sqrt(sample_size)\n",
        "\n",
        "plt.figure(figsize=(20,10))\n",
        "plt.hist(meansample, 200, density=True, color=\"lightblue\")\n",
        "plt.plot([mu,mu], [0,3.5], 'k-', lw = 4, color='green')\n",
        "plt.plot([mu-1.96*sigma/np.sqrt(sample_size),mu-1.96*sigma/np.sqrt(sample_size)], [0,3.5], 'k-', lw=2, color = 'navy')\n",
        "plt.plot([mu+1.96*sigma/np.sqrt(sample_size),mu+1.96*sigma/np.sqrt(sample_size)], [0,3.5], 'k-', lw=2, color = 'navy')\n",
        "plt.plot([x_bar, x_bar],[0,3.5], 'k-', lw=2, color = 'red')\n",
        "plt.plot([x_bar-1.96*ss/np.sqrt(sample_size), x_bar-1.96*ss/np.sqrt(sample_size)], [0,3.5],'k-', lw=1, color = 'red')\n",
        "plt.plot([x_bar+1.96*ss/np.sqrt(sample_size), x_bar+1.96*ss/np.sqrt(sample_size)], [0,3.5],'k-', lw=1, color = 'red')\n",
        "plt.gca().add_patch(plt.Rectangle((x_bar-1.96*ss/np.sqrt(sample_size), 0), 2*(1.96*ss/np.sqrt(sample_size)), 3.5, fill=True, fc = (0.9, 0.1, 0.1, 0.15)))\n",
        "\n",
        "plt.show()"
      ],
      "execution_count": 82,
      "outputs": [
        {
          "output_type": "display_data",
          "data": {
            "image/png": "[encoded data removed]",
            "text/plain": [
              "<Figure size 1440x720 with 1 Axes>"
            ]
          },
          "metadata": {
            "needs_background": "light"
          }
        }
      ]
    },
    {
      "cell_type": "code",
      "metadata": {
        "id": "1pJlwyIUiQjD"
      },
      "source": [
        "interval_list = []\n",
        "z_critical = 1.96 #z_0.975\n",
        "sample_size = 50\n",
        "c = 0\n",
        "error = z_critical*sigma/np.sqrt(sample_size)\n",
        "for i in range(0,100):\n",
        "  rs = random.choices(S, k = sample_size)\n",
        "  mean = np.mean(rs)\n",
        "  ub = mean + error\n",
        "  lb = mean - error\n",
        "  interval_list.append([lb, mean , ub])\n",
        "  if ub >= mu and lb <=mu:\n",
        "    c+=1\n"
      ],
      "execution_count": 90,
      "outputs": []
    },
    {
      "cell_type": "code",
      "metadata": {
        "colab": {
          "base_uri": "https://localhost:8080/"
        },
        "id": "hdVHDLL-jEmj",
        "outputId": "bfc98d72-e6d6-4f28-f703-9b5bd9805c28"
      },
      "source": [
        "print(c)"
      ],
      "execution_count": 91,
      "outputs": [
        {
          "output_type": "stream",
          "name": "stdout",
          "text": [
            "97\n"
          ]
        }
      ]
    },
    {
      "cell_type": "code",
      "metadata": {
        "colab": {
          "base_uri": "https://localhost:8080/",
          "height": 587
        },
        "id": "IrJaF4GajJ8x",
        "outputId": "c0b44c37-5135-431b-c8fd-7005c3521f66"
      },
      "source": [
        "print(\"Número de intervalos de confianza que contienen el valor real de mu : \", c)\n",
        "plt.figure(figsize=(20,10))\n",
        "plt.boxplot(interval_list)\n",
        "plt.plot([1,100], [mu, mu], 'k-', lw=2, color='red')\n",
        "plt.show()"
      ],
      "execution_count": 92,
      "outputs": [
        {
          "output_type": "stream",
          "name": "stdout",
          "text": [
            "Número de intervalos de confianza que contienen el valor real de mu :  97\n"
          ]
        },
        {
          "output_type": "display_data",
          "data": {
            "image/png": "[encoded data removed]",
            "text/plain": [
              "<Figure size 1440x720 with 1 Axes>"
            ]
          },
          "metadata": {
            "needs_background": "light"
          }
        }
      ]
    },
    {
      "cell_type": "code",
      "metadata": {
        "id": "ksZKwS3rjb0f"
      },
      "source": [
        ""
      ],
      "execution_count": null,
      "outputs": []
    }
  ]
}